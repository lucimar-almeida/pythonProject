{
 "cells": [
  {
   "cell_type": "markdown",
   "metadata": {},
   "source": [
    "# Exercícios\n",
    "\n",
    "## 1. Calculando % de uma lista\n",
    "\n",
    "Faremos algo parecido com \"filtrar\" uma lista. Mais pra frente no curso aprenderemos outras formas de fazer isso, mas com o nosso conhecimentoa atual já conseguimos resolver o desafio.\n",
    "\n",
    "Digamos que a gente tenha uma lista de vendedores e ao invés de saber todos os vendedores que bateram a meta, eu quero conseguir calcular o % de vendedores que bateram a meta. Ou seja, se temos 10 vendedores e 3 bateram a meta, temos 30% dos vendedores que bateram a meta."
   ]
  },
  {
   "cell_type": "code",
   "execution_count": 16,
   "metadata": {},
   "outputs": [
    {
     "name": "stdout",
     "output_type": "stream",
     "text": [
      "O vendedor João vendeu 15000 ficando acima da meta.\n",
      "O vendedor Julia vendeu 27000 ficando acima da meta.\n",
      "O vendedor Ana vendeu 10300 ficando acima da meta.\n",
      "A porcentagem de vendedores que bateram a meta foi de 50%\n",
      "Julia foi melhor vendedor(a) com 27000 vendas\n"
     ]
    }
   ],
   "source": [
    "meta = 10000\n",
    "vendas = [\n",
    "    ['João', 15000],\n",
    "    ['Julia', 27000],\n",
    "    ['Marcus', 9900],\n",
    "    ['Maria', 3750],\n",
    "    ['Ana', 10300],\n",
    "    ['Alon', 7870],\n",
    "]\n",
    "#seu código aqui\n",
    "\n",
    "bateram_meta = []\n",
    "melhor_vendedor = ''\n",
    "melhor_venda = 0\n",
    "\n",
    "for venda in vendas:\n",
    "    if venda[1] > meta:\n",
    "        bateram_meta.append(venda)\n",
    "\n",
    "for item in bateram_meta:\n",
    "    print(f'O vendedor {item[0]} vendeu {item[1]} ficando acima da meta.')\n",
    "    if item[1] > melhor_venda:\n",
    "        melhor_vendedor = item[0]\n",
    "        melhor_venda = item[1]\n",
    "\n",
    "\n",
    "print(f'A porcentagem de vendedores que bateram a meta foi de {len(bateram_meta)/len(vendas):.0%}')\n",
    "print(f'{melhor_vendedor} foi melhor vendedor(a) com {melhor_venda} vendas')\n",
    "\n"
   ]
  },
  {
   "cell_type": "markdown",
   "metadata": {},
   "source": [
    "- Vamos resolver de 2 formas:\n",
    "    1. Criando uma lista auxiliar apenas com os vendedores que bateram a meta\n",
    "    2. Fazendo o cálculo diretamente na lista que já temos"
   ]
  },
  {
   "cell_type": "markdown",
   "metadata": {},
   "source": [
    "## Para treinar uma estrutura parecida, crie um código para responder: quem foi o vendedor que mais vendeu?"
   ]
  },
  {
   "cell_type": "code",
   "execution_count": null,
   "metadata": {},
   "outputs": [],
   "source": [
    "#seu código aqui"
   ]
  }
 ],
 "metadata": {
  "kernelspec": {
   "display_name": "Python 3",
   "language": "python",
   "name": "python3"
  },
  "language_info": {
   "codemirror_mode": {
    "name": "ipython",
    "version": 3
   },
   "file_extension": ".py",
   "mimetype": "text/x-python",
   "name": "python",
   "nbconvert_exporter": "python",
   "pygments_lexer": "ipython3",
   "version": "3.12.0"
  }
 },
 "nbformat": 4,
 "nbformat_minor": 4
}
