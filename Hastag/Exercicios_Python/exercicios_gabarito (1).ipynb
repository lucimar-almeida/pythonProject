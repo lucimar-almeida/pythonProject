{
 "cells": [
  {
   "cell_type": "markdown",
   "id": "68b1c105fc6d5a40",
   "metadata": {},
   "source": [
    "# Exercícios de fixação "
   ]
  },
  {
   "cell_type": "markdown",
   "id": "d81c51497df6ecd4",
   "metadata": {},
   "source": [
    "A seguir, você encontrará alguns exercícios para fixar os conceitos aprendidos no curso até agora. Os exercícios estão divididos por exemplos práticos da vida real:\n",
    "\n",
    "- lista de compras\n",
    "- previsão de vendas\n",
    "- relatório de vendas\n",
    "- segmentação de clientes\n",
    "- analisador de texto\n",
    "\n",
    "Para cada assunto, você encontrará ao menos um exercício. Nos casos onde há mais de um exercício para o mesmo assunto, você será convidado a resolver o mesmo problema de formas diferentes. Isso é proposital, pois o objetivo é que você pratique o que aprendeu e, ao mesmo tempo, aprenda novas formas de resolver um mesmo problema. Por exemplo, usando diferentes estruturas de dados, ou diferentes formas de iterar sobre uma estrutura de dados, ou, ainda, utilizando funções.\n",
    "\n",
    "Tente resolver os exercícios sozinho. Se tiver dificuldades, consulte o material do curso e, se ainda assim não conseguir resolver, consulte a solução."
   ]
  },
  {
   "cell_type": "markdown",
   "id": "2fd1aaad9d2664d6",
   "metadata": {},
   "source": [
    "## Lista de compras"
   ]
  },
  {
   "cell_type": "markdown",
   "id": "8d98a0cd2735ed15",
   "metadata": {},
   "source": [
    "### Primeira versão da lista de compras"
   ]
  },
  {
   "cell_type": "markdown",
   "id": "76793ae6bcbd8eb0",
   "metadata": {},
   "source": [
    "Escreva um programa que permita que um usuário crie uma lista de compras.\n",
    "O usuário deve ser capaz de adicionar itens, remover itens e visualizar a lista.\n",
    "\n",
    "Estruture seu programa da seguinte forma:\n",
    "\n",
    "1. Crie uma lista vazia para armazenar os itens da lista de compras.\n",
    "2. Crie um loop infinito que imprima um menu de opções ao usuário e permita que ele escolha uma opção.\n",
    "3. Dentro do loop, use uma declaração if para executar a tarefa apropriada de acordo com a escolha do usuário.\n",
    "4. Se o usuário escolher adicionar um item, solicite que ele digite o nome do item e adicione-o à lista.\n",
    "5. Se o usuário escolher remover um item, solicite que ele digite o nome do item e remova-o da lista.\n",
    "6. Se o usuário escolher ver a lista, mostre cada item da lista em sua própria linha.\n",
    "7. Se o usuário escolher sair, encerre o loop usando break.\n",
    "\n",
    "Exemplo de saída:\n",
    "\n",
    "```\n",
    "1 Adicionar item\n",
    "2 Remover item\n",
    "3 Ver lista\n",
    "4 Sair\n",
    "Escolha uma opção: 1\n",
    "Digite um item: banana\n",
    "\n",
    "1 Adicionar item\n",
    "2 Remover item\n",
    "3 Ver lista\n",
    "4 Sair\n",
    "Escolha uma opção: 1\n",
    "Digite um item: maçã\n",
    "\n",
    "1 Adicionar item\n",
    "2 Remover item\n",
    "3 Ver lista\n",
    "4 Sair\n",
    "Escolha uma opção: 3\n",
    "['banana', 'maçã']\n",
    "\n",
    "1 Adicionar item\n",
    "2 Remover item\n",
    "3 Ver lista\n",
    "4 Sair\n",
    "Escolha uma opção: 2\n",
    "Digite um item: banana\n",
    "\n",
    "1 Adicionar item\n",
    "2 Remover item\n",
    "3 Ver lista\n",
    "4 Sair\n",
    "Escolha uma opção: 3\n",
    "['maçã']\n",
    "\n",
    "1 Adicionar item\n",
    "2 Remover item\n",
    "3 Ver lista\n",
    "4 Sair\n",
    "Escolha uma opção: 4\n",
    "```"
   ]
  },
  {
   "cell_type": "code",
   "execution_count": null,
   "id": "45c4e67317fa32b7",
   "metadata": {
    "ExecuteTime": {
     "end_time": "2023-08-02T12:34:44.268236100Z",
     "start_time": "2023-08-02T12:34:27.838518600Z"
    },
    "collapsed": false,
    "jupyter": {
     "outputs_hidden": false
    },
    "tags": []
   },
   "outputs": [],
   "source": [
    "# solução\n",
    "\n",
    "lista_compras = []\n",
    "\n",
    "while True:\n",
    "    print()                                 # linha em branco no início\n",
    "    \n",
    "    print(\"1 Adicionar item\")\n",
    "    print(\"2 Remover item\")\n",
    "    print(\"3 Ver lista\")\n",
    "    print(\"4 Sair\")\n",
    "    \n",
    "    escolha = input(\"Escolha uma opção: \")\n",
    "    \n",
    "    if escolha == '1':\n",
    "        item = input(\"Digite um item: \")\n",
    "        lista_compras.append(item)\n",
    "    elif escolha == '2':\n",
    "        item = input(\"Digite um item: \")\n",
    "        if item in lista_compras:\n",
    "            lista_compras.remove(item)\n",
    "    elif escolha == '3':\n",
    "        print(lista_compras)\n",
    "    elif escolha == '4':\n",
    "        break\n"
   ]
  },
  {
   "cell_type": "markdown",
   "id": "e72063557a269f88",
   "metadata": {},
   "source": [
    "### Segunda versão da lista de compras\n"
   ]
  },
  {
   "cell_type": "markdown",
   "id": "eadb8c98aececf0c",
   "metadata": {},
   "source": [
    "Mude o programa de lista de compras para usar um dicionário ao invés de uma lista.\n",
    "O programa deve ter as mesmas funcionalidades, mas agora deve ser possível\n",
    "adicionar mais de uma unidade de um item na lista de compras. Ou seja, o dicionário\n",
    "deve armazenar o nome do item e a quantidade desejada pelo usuário. Por exemplo,\n",
    "se o usuário digitar \"banana\" e \"2\", o dicionário deve armazenar \"banana\" como chave\n",
    "e 2 como valor. A estrutura do dicionário ficaria assim: `{\"banana\": 2}`.\n",
    "\n",
    "O programa deve permitir que o usuário adicione, remova e visualize o dicionário de compras.\n",
    "\n",
    "Além disso, o programa deve mostrar uma mensagem de erro se o usuário tentar\n",
    "usar uma opção inválida do menu. Por exemplo, se o usuário digitar 5, o programa\n",
    "deve mostrar a mensagem \"Opção inválida. Por favor, escolha uma opção válida.\" e\n",
    "mostrar o menu novamente. Além disso, o programa deve ser *case insensitive*, ou seja,\n",
    "\"Maçã\" e \"maçã\" devem ser considerados o mesmo item.\n",
    "\n",
    "Exemplo de saída:\n",
    "\n",
    "```\n",
    "1 Adicionar item\n",
    "2 Remover item\n",
    "3 Ver lista\n",
    "4 Sair\n",
    "Escolha uma opção: 1\n",
    "Digite um item: banana\n",
    "Digite a quantidade: 2\n",
    "\n",
    "1 Adicionar item\n",
    "2 Remover item\n",
    "3 Ver lista\n",
    "4 Sair\n",
    "Escolha uma opção: 1\n",
    "Digite um item: maçã\n",
    "Digite a quantidade: 3\n",
    "\n",
    "1 Adicionar item\n",
    "2 Remover item\n",
    "3 Ver lista\n",
    "4 Sair\n",
    "Escolha uma opção: 3\n",
    "{'banana': 2, 'maçã': 3}\n",
    "\n",
    "1 Adicionar item\n",
    "2 Remover item\n",
    "3 Ver lista\n",
    "4 Sair\n",
    "Escolha uma opção: 2\n",
    "Digite um item: banana\n",
    "Digite a quantidade: 1\n",
    "\n",
    "1 Adicionar item\n",
    "2 Remover item\n",
    "3 Ver lista\n",
    "4 Sair\n",
    "Escolha uma opção: 3\n",
    "{'banana': 1, 'maçã': 3}\n",
    "\n",
    "1 Adicionar item\n",
    "2 Remover item\n",
    "3 Ver lista\n",
    "4 Sair\n",
    "Escolha uma opção: 4\n",
    "```\n"
   ]
  },
  {
   "cell_type": "code",
   "execution_count": null,
   "id": "b18d69c02667c201",
   "metadata": {
    "collapsed": false,
    "jupyter": {
     "outputs_hidden": false
    },
    "tags": []
   },
   "outputs": [],
   "source": [
    "# solução\n",
    "\n",
    "# observe que agora é um dicionário, não uma lista mais. Não confunda o nome da variável\n",
    "# com o tipo de dado que ela armazena. O nome da variável é lista_compras, mas ela\n",
    "# armazena um dicionário, não uma lista. O nome da variável é apenas uma convenção\n",
    "# para facilitar a leitura do código, já que é usual no cotidiano falarmos lista de compras.\n",
    "# Você poderia ter escolhido outro nome para a variável, como dicionario_compras, por exemplo.\n",
    "# Ou, simplesmente compras. \n",
    "# O importante é que o nome da variável seja significativo e facilite a leitura do código. \n",
    "\n",
    "lista_compras = {}\n",
    "\n",
    "while True:\n",
    "    print()\n",
    "    \n",
    "    print(\"1 Adicionar item\")\n",
    "    print(\"2 Remover item\")\n",
    "    print(\"3 Ver lista\")\n",
    "    print(\"4 Sair\")\n",
    "    \n",
    "    escolha = input(\"Escolha uma opção: \")\n",
    "    \n",
    "    if escolha == '1':\n",
    "        item = input(\"Digite um item: \").lower()\n",
    "        quantidade = int(input(\"Digite a quantidade: \"))\n",
    "        if item in lista_compras:\n",
    "            lista_compras[item] += quantidade\n",
    "        else:\n",
    "            lista_compras[item] = quantidade\n",
    "    elif escolha == '2':\n",
    "        item = input(\"Digite um item: \").lower()\n",
    "        if item in lista_compras:\n",
    "            quantidade = int(input(\"Digite a quantidade: \"))\n",
    "            if quantidade >= lista_compras[item]:\n",
    "                del lista_compras[item]\n",
    "            else:\n",
    "                lista_compras[item] -= quantidade\n",
    "        else:\n",
    "            print(\"Item não está na lista de compras\")\n",
    "    elif escolha == '3':\n",
    "        for item, quantidade in lista_compras.items():\n",
    "            print(f\"{item}: {quantidade}\")\n",
    "    elif escolha == '4':\n",
    "        break\n",
    "    else:\n",
    "        print(\"Opção inválida. Por favor, escolha uma opção válida.\")\n"
   ]
  },
  {
   "cell_type": "markdown",
   "id": "54b3116e8672ece9",
   "metadata": {},
   "source": [
    "### Terceira versão da lista de compras"
   ]
  },
  {
   "cell_type": "markdown",
   "id": "60956ff5a8f85a63",
   "metadata": {},
   "source": [
    "Mantenha o programa da lista de compras com dicionário, mas agora use funções para organizar o código. Crie funções para cada uma das opções do menu: `adicionar_item`, `remover_item` e `ver_lista`. Crie também uma função para mostrar o menu. O programa deve continuar funcionando da mesma forma, mas agora o código deve estar organizado em funções.\n"
   ]
  },
  {
   "cell_type": "code",
   "execution_count": null,
   "id": "2090255b55f11c26",
   "metadata": {
    "collapsed": false,
    "jupyter": {
     "outputs_hidden": false
    },
    "tags": []
   },
   "outputs": [],
   "source": [
    "# solução\n",
    "    \n",
    "    \n",
    "def adicionar_item(lista_compras):\n",
    "    item = input(\"Digite um item: \").lower()\n",
    "    quantidade = int(input(\"Digite a quantidade: \"))\n",
    "    if item in lista_compras:\n",
    "        lista_compras[item] += quantidade\n",
    "    else:\n",
    "        lista_compras[item] = quantidade\n",
    "\n",
    "        \n",
    "def remover_item(lista_compras):\n",
    "    item = input(\"Digite um item: \").lower()\n",
    "    if item in lista_compras:\n",
    "        quantidade = int(input(\"Digite a quantidade: \"))\n",
    "        if quantidade >= lista_compras[item]:\n",
    "            del lista_compras[item]\n",
    "        else:\n",
    "            lista_compras[item] -= quantidade\n",
    "    else:\n",
    "        print(\"Item não está na lista de compras\")\n",
    "        \n",
    "\n",
    "def ver_lista(lista_compras):\n",
    "    for item, quantidade in lista_compras.items():\n",
    "        print(f\"{item}: {quantidade}\")\n",
    "        \n",
    "\n",
    "def main():\n",
    "    \n",
    "    lista_compras = {}  \n",
    "    \n",
    "    while True:\n",
    "        print()\n",
    "        \n",
    "        print(\"1 Adicionar item\")\n",
    "        print(\"2 Remover item\")\n",
    "        print(\"3 Ver lista\")\n",
    "        print(\"4 Sair\")\n",
    "        escolha = input(\"Escolha uma opção: \")\n",
    "        if escolha == '1':\n",
    "            adicionar_item(lista_compras)\n",
    "        elif escolha == '2':\n",
    "            remover_item(lista_compras)\n",
    "        elif escolha == '3':\n",
    "            ver_lista(lista_compras)\n",
    "        elif escolha == '4':\n",
    "            break\n",
    "        else:\n",
    "            print(\"Opção inválida. Por favor, escolha uma opção válida.\")\n",
    "\n",
    "if __name__ == \"__main__\":\n",
    "    main()\n"
   ]
  },
  {
   "cell_type": "markdown",
   "id": "8d588e67cfbfbca5",
   "metadata": {},
   "source": [
    "## Previsão de vendas"
   ]
  },
  {
   "cell_type": "markdown",
   "id": "8e0c92fdb167f2b7",
   "metadata": {},
   "source": [
    "### Primeira versão da previsão de vendas"
   ]
  },
  {
   "cell_type": "markdown",
   "id": "5cdcbbd0f8e2fef2",
   "metadata": {},
   "source": [
    "Escreva um programa que preveja as vendas totais para cada produto em uma empresa.\n",
    "O usuário deve digitar o nome do produto, as vendas do mês atual e a taxa de crescimento,\n",
    "e o programa deve calcular as vendas previstas para o próximo mês.\n",
    "\n",
    "Estruture seu programa da seguinte forma:\n",
    "\n",
    "1. Crie um dicionário vazio para armazenar as previsões de vendas.\n",
    "2. Crie um loop infinito que solicite ao usuário o nome do produto, as vendas do mês atual e a taxa de crescimento.\n",
    "3. Dentro do loop, use uma declaração if para verificar se o usuário digitou 'sair'.\n",
    "4. Se o usuário digitar 'sair', encerre o loop usando break.\n",
    "5. Se o usuário digitar qualquer outra coisa, use as entradas para calcular as vendas previstas e adicione-as ao dicionário.\n",
    "6. Depois que o loop for encerrado, use um loop for para iterar sobre o dicionário e mostrar as previsões de vendas para cada produto.\n",
    "\n",
    "Exemplo de saída:\n",
    "\n",
    "```\n",
    "Digite o nome do produto (ou 'sair' para sair): iphone\n",
    "Digite as vendas do mês atual: 10000\n",
    "Digite a taxa de crescimento (%): 10\n",
    "Digite o nome do produto (ou 'sair' para sair): capinha para iphone\n",
    "Digite as vendas do mês atual: 200\n",
    "Digite a taxa de crescimento (%): 20\n",
    "Digite o nome do produto (ou 'sair' para sair): sair\n",
    "iphone: Previsão de vendas do próximo mês = R$ 11000.00\n",
    "capinha para iphone: Previsão de vendas do próximo mês = R$ 240.00\n",
    "```\n"
   ]
  },
  {
   "cell_type": "code",
   "execution_count": null,
   "id": "eaedbd42fdbec32",
   "metadata": {
    "collapsed": false,
    "jupyter": {
     "outputs_hidden": false
    },
    "tags": []
   },
   "outputs": [],
   "source": [
    "# solução\n",
    "\n",
    "previsao = {}\n",
    "while True:\n",
    "    nome = input(\"Digite o nome do produto (ou 'sair' para sair): \")\n",
    "    if nome.lower() == 'sair':\n",
    "        break\n",
    "    vendas_atual = float(input(\"Digite as vendas do mês atual: \"))\n",
    "    taxa_crescimento = float(input(\"Digite a taxa de crescimento (%): \"))\n",
    "    vendas_proximo_mes = vendas_atual * (1 + taxa_crescimento / 100)\n",
    "    previsao[nome] = vendas_proximo_mes\n",
    "\n",
    "for nome, vendas_proximo_mes in previsao.items():\n",
    "    print(f\"{nome}: Previsão de vendas do próximo mês = R$ {vendas_proximo_mes:.2f}\")\n"
   ]
  },
  {
   "cell_type": "markdown",
   "id": "220e777cb67078ef",
   "metadata": {},
   "source": [
    "### Segunda versão da previsão de vendas\n"
   ]
  },
  {
   "cell_type": "markdown",
   "id": "fed0a44f64e893c7",
   "metadata": {},
   "source": [
    "Mantenha a mesma funcionalidade do programa anterior, mas agora valide a entrada do usuário.\n",
    "Se o usuário digitar um valor inválido para vendas ou taxa de crescimento, mostre a mensagem\n",
    "\"Entrada inválida. Por favor, digite um número para vendas e taxa de crescimento.\" e peça\n",
    "para o usuário digitar novamente. Tal validação deve ser feita usando try/except.\n"
   ]
  },
  {
   "cell_type": "code",
   "execution_count": null,
   "id": "2f5b03266aa76ac1",
   "metadata": {
    "collapsed": false,
    "jupyter": {
     "outputs_hidden": false
    },
    "tags": []
   },
   "outputs": [],
   "source": [
    "# solução\n",
    "\n",
    "previsao = {}\n",
    "while True:\n",
    "    nome = input(\"Digite o nome do produto (ou 'sair' para sair): \")\n",
    "    if nome.lower() == 'sair':\n",
    "        break\n",
    "    try:\n",
    "        vendas_atual = float(input(\"Digite as vendas do mês atual: \"))\n",
    "        taxa_crescimento = float(input(\"Digite a taxa de crescimento (%): \"))\n",
    "    except ValueError:\n",
    "        print(\"Entrada inválida. Por favor, digite um número para vendas e taxa de crescimento.\")\n",
    "        continue\n",
    "    vendas_proximo_mes = vendas_atual * (1 + taxa_crescimento / 100)\n",
    "    previsao[nome] = vendas_proximo_mes\n",
    "\n",
    "for nome, vendas_proximo_mes in previsao.items():\n",
    "    print(f\"{nome}: Previsão de vendas do próximo mês = R$ {vendas_proximo_mes:.2f}\")\n"
   ]
  },
  {
   "cell_type": "markdown",
   "id": "d861ab7ae8fb3309",
   "metadata": {},
   "source": [
    "## Relatório de vendas"
   ]
  },
  {
   "cell_type": "markdown",
   "id": "fee0c84ea4dcc146",
   "metadata": {},
   "source": [
    "### Primeira versão do relatório de vendas"
   ]
  },
  {
   "cell_type": "markdown",
   "id": "2f97dd1b949ee274",
   "metadata": {},
   "source": [
    "Escreva um programa que calcula o total e a média de vendas para cada vendedor em uma empresa.\n",
    "O usuário deve digitar o nome do vendedor e suas vendas, e o programa deve manter o controle\n",
    "do total e da média de vendas para cada vendedor.\n",
    "\n",
    "Estruture seu programa da seguinte forma:\n",
    "\n",
    "1. Crie um dicionário vazio para armazenar os dados de vendas.\n",
    "2. Crie um loop infinito que solicite ao usuário o nome do vendedor e suas vendas.\n",
    "3. Dentro do loop, use uma declaração if para verificar se o usuário digitou 'sair'.\n",
    "4. Se o usuário digitar 'sair', encerre o loop usando break.\n",
    "5. Se o usuário digitar qualquer outra coisa, use as entradas para calcular o total e a média de vendas para o vendedor e adicione-os ao dicionário.\n",
    "6. Depois que o loop for encerrado, use um loop for para iterar sobre o dicionário e mostrar o total e a média de vendas para cada vendedor.\n",
    "\n",
    "Exemplo de saída:\n",
    "    \n",
    "```\n",
    "Digite o nome do vendedor (ou 'sair' para sair): João\n",
    "Digite as vendas: 100\n",
    "Digite o nome do vendedor (ou 'sair' para sair): Maria\n",
    "Digite as vendas: 200\n",
    "Digite o nome do vendedor (ou 'sair' para sair): João\n",
    "Digite as vendas: 300\n",
    "Digite o nome do vendedor (ou 'sair' para sair): sair\n",
    "João: Total de vendas = R$ 400.0, Média de vendas = R$ 200.0\n",
    "Maria: Total de vendas = R$ 200.0, Média de vendas = R$ 200.0\n",
    "```\n",
    "\n",
    "Dica: use o método sum() para calcular o total de vendas e o método len() para calcular o número de vendas.\n"
   ]
  },
  {
   "cell_type": "code",
   "execution_count": null,
   "id": "850a34dfad3b326a",
   "metadata": {
    "collapsed": false,
    "jupyter": {
     "outputs_hidden": false
    },
    "tags": []
   },
   "outputs": [],
   "source": [
    "# solução\n",
    "\n",
    "dados_vendas = {}\n",
    "while True:\n",
    "    nome = input(\"Digite o nome do vendedor (ou 'sair' para sair): \")\n",
    "    if nome.lower() == 'sair':\n",
    "        break\n",
    "    vendas = float(input(\"Digite as vendas: \"))\n",
    "    if nome not in dados_vendas:\n",
    "        dados_vendas[nome] = [vendas]\n",
    "    else:\n",
    "        dados_vendas[nome].append(vendas)\n",
    "\n",
    "for nome, vendas in dados_vendas.items():\n",
    "    total_vendas = sum(vendas)\n",
    "    media_vendas = total_vendas / len(vendas)\n",
    "    print(f\"{nome}: Total de vendas = R$ {total_vendas:.2f}, Média de vendas = R$ {media_vendas:.2f}\")\n"
   ]
  },
  {
   "cell_type": "markdown",
   "id": "df0b488f9bf63f0f",
   "metadata": {},
   "source": [
    "### Segunda versão do relatório de vendas\n"
   ]
  },
  {
   "cell_type": "markdown",
   "id": "f6f7d690536b31ad",
   "metadata": {},
   "source": [
    "Mantenha a mesma funcionalidade do programa anterior, mas agora valide a entrada do usuário.\n",
    "Se o usuário digitar um valor inválido para vendas, mostre a mensagem\n",
    "\"Entrada inválida. Por favor, digite um número para vendas.\" e peça para o usuário digitar\n",
    "novamente. Tal validação deve ser feita usando try/except.\n",
    "\n",
    "Além disso, ao invés de armazenar cada venda em uma lista para cada vendedor, armazene\n",
    "o total de vendas e a quantidade de vendas em um dicionário. Por exemplo, se o usuário\n",
    "digitar \"João\" e \"1000\" para vendas, o dicionário deve ficar assim:\n",
    "\n",
    "```python\n",
    "{'João': {'total_vendas': 1000, 'quantidade_vendas': 1}}\n",
    "```\n",
    "\n",
    "Se, após, o usuário digitar \"João\" e \"2000\" para vendas, o dicionário deve ficar assim:\n",
    "\n",
    "```python\n",
    "{'João': {'total_vendas': 3000, 'quantidade_vendas': 2}}\n",
    "```\n",
    "\n",
    "Perceba como o total de vendas de João aumentou em 2000, assim como a quantidade aumentou em uma unidade.\n",
    "\n",
    "Ao final, mostre o total de vendas e a média de vendas de cada vendedor.\n",
    "\n",
    "Exemplo de saída:\n",
    "\n",
    "```\n",
    "Digite o nome do vendedor (ou 'sair' para sair): João\n",
    "Digite as vendas: 1000\n",
    "Digite o nome do vendedor (ou 'sair' para sair): Maria\n",
    "Digite as vendas: 2000\n",
    "Digite o nome do vendedor (ou 'sair' para sair): João\n",
    "Digite as vendas: 2000\n",
    "Digite o nome do vendedor (ou 'sair' para sair): Maria\n",
    "Digite as vendas: 3000\n",
    "Digite o nome do vendedor (ou 'sair' para sair): sair\n",
    "João: Total de vendas = R$ 3000.00, Média de vendas = R$ 1500.00\n",
    "Maria: Total de vendas = R$ 5000.00, Média de vendas = R$ 2500.00\n",
    "```\n"
   ]
  },
  {
   "cell_type": "code",
   "execution_count": null,
   "id": "acf9f8d385d8c261",
   "metadata": {
    "collapsed": false,
    "jupyter": {
     "outputs_hidden": false
    },
    "tags": []
   },
   "outputs": [],
   "source": [
    "# solução\n",
    "\n",
    "dados_vendas = {}\n",
    "while True:\n",
    "    nome = input(\"Digite o nome do vendedor (ou 'sair' para sair): \")\n",
    "    if nome.lower() == 'sair':\n",
    "        break\n",
    "    try:\n",
    "        vendas = float(input(\"Digite as vendas: \"))\n",
    "    except ValueError:\n",
    "        print(\"Entrada inválida. Por favor, digite um número para vendas.\")\n",
    "        continue\n",
    "    if nome not in dados_vendas:\n",
    "        dados_vendas[nome] = {'total_vendas': vendas, 'quantidade_vendas': 1}\n",
    "    else:\n",
    "        dados_vendas[nome]['total_vendas'] += vendas\n",
    "        dados_vendas[nome]['quantidade_vendas'] += 1\n",
    "\n",
    "for nome, dados in dados_vendas.items():\n",
    "    total_vendas = dados['total_vendas']\n",
    "    media_vendas = total_vendas / dados['quantidade_vendas']\n",
    "    print(f\"{nome}: Total de vendas = R$ {total_vendas:.2f}, Média de vendas = R$ {media_vendas:.2f}\")\n"
   ]
  },
  {
   "cell_type": "markdown",
   "id": "6d4ed09b42dbfd0f",
   "metadata": {},
   "source": [
    "### Terceira versão do relatório de vendas"
   ]
  },
  {
   "cell_type": "markdown",
   "id": "172639eaf7b59b37",
   "metadata": {},
   "source": [
    " Mantenha a funcionalidade do programa, mas agora use funções para organizar o código. Crie funções para cada uma das operações: `solicitar_nome_vendedor`, `solicitar_vendas` e `atualizar_dados` e `print_dados`. O programa deve continuar funcionando da mesma forma, mas agora o código deve estar organizado em funções."
   ]
  },
  {
   "cell_type": "code",
   "execution_count": null,
   "id": "2d9d97268c20cefd",
   "metadata": {
    "collapsed": false,
    "jupyter": {
     "outputs_hidden": false
    },
    "tags": []
   },
   "outputs": [],
   "source": [
    "# solução\n",
    "\n",
    "\n",
    "def solicitar_nome_vendedor():\n",
    "    return input(\"Digite o nome do vendedor (ou 'sair' para sair): \").lower()\n",
    "\n",
    "\n",
    "def solicitar_vendas():\n",
    "    try:\n",
    "        return float(input(\"Digite as vendas: \"))\n",
    "    except ValueError:\n",
    "        print(\"Entrada inválida. Por favor, digite um número para vendas.\")\n",
    "        return None\n",
    "\n",
    "    \n",
    "def atualizar_dados(dados_vendas, nome, vendas):\n",
    "    if nome not in dados_vendas:\n",
    "        dados_vendas[nome] = {'total_vendas': vendas, 'quantidade_vendas': 1}\n",
    "    else:\n",
    "        dados_vendas[nome]['total_vendas'] += vendas\n",
    "        dados_vendas[nome]['quantidade_vendas'] += 1\n",
    "        \n",
    "\n",
    "def print_dados(dados_vendas):\n",
    "    for nome, dados in dados_vendas.items():\n",
    "        total_vendas = dados['total_vendas']\n",
    "        media_vendas = total_vendas / dados['quantidade_vendas']\n",
    "        print(f\"{nome}: Total de vendas = R$ {total_vendas:.2f}, Média de vendas = R$ {media_vendas:.2f}\")\n",
    "        \n",
    "\n",
    "def main():\n",
    "    dados_vendas = {}\n",
    "    while True:\n",
    "        nome = solicitar_nome_vendedor()\n",
    "        if nome == 'sair':\n",
    "            break\n",
    "        vendas = solicitar_vendas()\n",
    "        if vendas is None:\n",
    "            continue\n",
    "        atualizar_dados(dados_vendas, nome, vendas)\n",
    "    print_dados(dados_vendas)\n",
    "\n",
    "if __name__ == \"__main__\":\n",
    "    main()\n"
   ]
  },
  {
   "cell_type": "markdown",
   "id": "62a19809a576b0f1",
   "metadata": {},
   "source": [
    "## Segmentação de clientes"
   ]
  },
  {
   "cell_type": "markdown",
   "id": "e442eb294aafb0b3",
   "metadata": {},
   "source": [
    "### Primeira versão da segmentação de clientes"
   ]
  },
  {
   "cell_type": "markdown",
   "id": "802af9ecdfa16fae",
   "metadata": {},
   "source": [
    "Escreva um programa que segmenta clientes com base em suas compras totais.\n",
    "O usuário deve digitar o nome do cliente e suas compras totais, e o programa\n",
    "deve atribuir cada cliente a um segmento: 'Bronze' para compras de até R\\\\$ 1000,\n",
    "'Prata' para compras de até R\\\\$ 5000 e 'Ouro' para compras acima de R\\\\$ 5000.\n",
    "\n",
    "Estruture seu programa da seguinte forma:\n",
    "\n",
    "1. Crie um dicionário vazio para armazenar os clientes e seus segmentos.\n",
    "2. Crie um loop infinito que solicite ao usuário o nome do cliente e suas compras totais.\n",
    "3. Dentro do loop, use uma declaração if para atribuir o segmento apropriado ao cliente.\n",
    "4. Se o usuário digitar 'sair' para o nome do cliente, encerre o loop usando break.\n",
    "5. Fora do loop, use um loop for para imprimir o nome e o segmento de cada cliente.\n",
    "\n",
    "Exemplo de saída:\n",
    "    \n",
    "```\n",
    "Digite o nome do cliente (ou 'sair' para sair): João\n",
    "Digite o total de compras: 100\n",
    "Digite o nome do cliente (ou 'sair' para sair): Maria\n",
    "Digite o total de compras: 2000\n",
    "Digite o nome do cliente (ou 'sair' para sair): José\n",
    "Digite o total de compras: 6000\n",
    "Digite o nome do cliente (ou 'sair' para sair): sair\n",
    "João: Segmento do Cliente = Bronze\n",
    "Maria: Segmento do Cliente = Prata\n",
    "José: Segmento do Cliente = Ouro\n",
    "```\n"
   ]
  },
  {
   "cell_type": "code",
   "execution_count": null,
   "id": "4db19cd98e8be766",
   "metadata": {
    "collapsed": false,
    "jupyter": {
     "outputs_hidden": false
    },
    "tags": []
   },
   "outputs": [],
   "source": [
    "# solução\n",
    "\n",
    "clientes = {}\n",
    "while True:\n",
    "    nome = input(\"Digite o nome do cliente (ou 'sair' para sair): \")\n",
    "    if nome.lower() == 'sair':\n",
    "        break\n",
    "    compras = float(input(\"Digite o total de compras: \"))\n",
    "    if compras <= 1000:\n",
    "        segmento = 'Bronze'\n",
    "    elif compras <= 5000:\n",
    "        segmento = 'Prata'\n",
    "    else:\n",
    "        segmento = 'Ouro'\n",
    "    clientes[nome] = segmento\n",
    "\n",
    "for nome, segmento in clientes.items():\n",
    "    print(f\"{nome}: Segmento do Cliente = {segmento}\")\n"
   ]
  },
  {
   "cell_type": "markdown",
   "id": "7479c6559d242c1f",
   "metadata": {},
   "source": [
    "### Segunda versão da segmentação de clientes\n"
   ]
  },
  {
   "cell_type": "markdown",
   "id": "8a1f0c9716cd55f5",
   "metadata": {},
   "source": [
    "\n",
    "Mantenha a mesma funcionalidade do programa anterior, mas agora valide a entrada do usuário.\n",
    "Se o usuário digitar um valor inválido para compras, mostre a mensagem\n",
    "\"Entrada inválida. Por favor, digite um número para compras.\" e peça para o usuário digitar\n",
    "novamente. Tal validação deve ser feita usando try/except.\n",
    "\n",
    "Além disso, ao invés de deixar os limites de compras fixos no programa, armazene-os em uma\n",
    "lista de tuplas. Por exemplo:\n",
    "\n",
    "```python\n",
    "segmentos = [(1000, 'Bronze'), (5000, 'Prata'), (float('inf'), 'Ouro')]\n",
    "``` \n",
    "\n",
    "Assim, outros segmentos podem ser adicionados facilmente. O primeiro elemento da tupla é o\n",
    "limite de compras e o segundo é o nome do segmento. O último elemento da lista é uma tupla\n",
    "com limite `float('inf')`, que representa o segmento Ouro. Isso significa que, se o valor de\n",
    "compras for maior que todos os limites, o segmento será Ouro.\n",
    "\n",
    "Depois, percorra essa lista e, para cada tupla, verifique se o valor de compras é menor ou igual\n",
    "ao limite. Se for, armazene o segmento em um dicionário. Por exemplo, se o usuário digitar\n",
    "\"João\" e \"500\" para compras, o dicionário deve ficar assim:\n",
    "`{'João': 'Bronze'}`\n"
   ]
  },
  {
   "cell_type": "code",
   "execution_count": null,
   "id": "d6b28cbd519b19db",
   "metadata": {
    "collapsed": false,
    "jupyter": {
     "outputs_hidden": false
    },
    "tags": []
   },
   "outputs": [],
   "source": [
    "# solução\n",
    "\n",
    "segmentos = [(1000, 'Bronze'), (5000, 'Prata'), (float('inf'), 'Ouro')]\n",
    "clientes = {}\n",
    "while True:\n",
    "    nome = input(\"Digite o nome do cliente (ou 'sair' para sair): \")\n",
    "    if nome.lower() == 'sair':\n",
    "        break\n",
    "    try:\n",
    "        compras = float(input(\"Digite o total de compras: \"))\n",
    "    except ValueError:\n",
    "        print(\"Entrada inválida. Por favor, digite um número para compras.\")\n",
    "        continue\n",
    "    for limite, segmento in segmentos:\n",
    "        if compras <= limite:\n",
    "            clientes[nome] = segmento\n",
    "            break\n",
    "\n",
    "for nome, segmento in clientes.items():\n",
    "    print(f\"{nome}: Segmento do Cliente = {segmento}\")\n"
   ]
  },
  {
   "cell_type": "markdown",
   "id": "e0b43f24e484cff6",
   "metadata": {},
   "source": [
    "### Terceira versão da segmentação de clientes"
   ]
  },
  {
   "cell_type": "markdown",
   "id": "540a003667a58fe3",
   "metadata": {},
   "source": [
    "Mantenha a funcionalidade do programa, mas agora use funções para organizar o código. Crie funções para cada uma das operações: `solicitar_nome_cliente`, `solicitar_total_compras` e `atribuir_segmento` e `print_segmento_por_cliente`. O programa deve continuar funcionando da mesma forma, mas agora o código deve estar organizado em funções. Além disso, normalize que todos os nomes sejam armazenados em letras minúsculas."
   ]
  },
  {
   "cell_type": "code",
   "execution_count": null,
   "id": "3e2ae1f61a34ac14",
   "metadata": {
    "collapsed": false,
    "jupyter": {
     "outputs_hidden": false
    },
    "tags": []
   },
   "outputs": [],
   "source": [
    "# solução\n",
    "\n",
    "\n",
    "def solicitar_nome_cliente():\n",
    "    return input(\"Digite o nome do cliente (ou 'sair' para sair): \").lower()\n",
    "\n",
    "\n",
    "def solicitar_total_compras():\n",
    "    try:\n",
    "        return float(input(\"Digite o total de compras: \"))\n",
    "    except ValueError:\n",
    "        print(\"Entrada inválida. Por favor, digite um número para compras.\")\n",
    "        return None\n",
    "    \n",
    "\n",
    "def atribuir_segmento(compras, segmentos):\n",
    "    for limite, segmento in segmentos:\n",
    "        if compras <= limite:\n",
    "            return segmento\n",
    "        \n",
    "\n",
    "def print_segmento_por_cliente(clientes):\n",
    "    for nome, segmento in clientes.items():\n",
    "        print(f\"{nome}: Segmento do Cliente = {segmento}\")\n",
    "        \n",
    "\n",
    "def main():\n",
    "    segmentos = [(1000, 'Bronze'), (5000, 'Prata'), (float('inf'), 'Ouro')]\n",
    "    clientes = {}\n",
    "    while True:\n",
    "        nome = solicitar_nome_cliente()\n",
    "        if nome == 'sair':\n",
    "            break\n",
    "        compras = solicitar_total_compras()\n",
    "        if compras is None:\n",
    "            continue\n",
    "        clientes[nome] = atribuir_segmento(compras, segmentos)\n",
    "    print_segmento_por_cliente(clientes)\n",
    "\n",
    "    \n",
    "if __name__ == \"__main__\":\n",
    "    main()\n"
   ]
  },
  {
   "cell_type": "markdown",
   "id": "2782ae42b0883ca",
   "metadata": {},
   "source": [
    "## Analisador de texto"
   ]
  },
  {
   "cell_type": "markdown",
   "id": "b854b1f160300285",
   "metadata": {},
   "source": [
    "Crie um programa que analise um texto fornecido pelo usuário.\n",
    "O programa deve contar o número de palavras (independentemente se há repetição ou não),\n",
    "a quantidade de cada palavra e a\n",
    "quantidade de cada letra. Ignore maiúsculas e minúsculas ao contar letras.\n",
    "Não se preocupe com pontuação e espaços ao contar palavras.\n",
    "\n",
    "O programa deve conter uma função chamada `analisar_texto` que recebe o texto\n",
    "como parâmetro e retorna a contagem de palavras, a frequência de palavras e a\n",
    "frequência de letras.\n",
    "\n",
    "Para o texto \"Olá mundo! Este é um teste. Olá novamente.\" o programa deve\n",
    "imprimir:\n",
    "    \n",
    "```\n",
    "Contagem de palavras: 8\n",
    "Frequência de palavras: {'Olá': 2, 'mundo!': 1, 'Este': 1, 'é': 1, 'um': 1, 'teste.': 1, 'novamente.': 1}\n",
    "Frequência de letras: {'o': 4, 'l': 2, 'á': 2, 'm': 3, 'u': 2, 'n': 3, 'd': 1, '!': 1, 'e': 6, 's': 2, 't': 4, 'é': 1, '.': 2, 'v': 1, 'a': 1}\n",
    "```\n",
    "\n",
    "**Observação**: Mais adiante no curso, aprenderemos a lidar com a pontuação."
   ]
  },
  {
   "cell_type": "code",
   "execution_count": null,
   "id": "6187a6a77f5a2f4a",
   "metadata": {
    "collapsed": false,
    "jupyter": {
     "outputs_hidden": false
    },
    "tags": []
   },
   "outputs": [],
   "source": [
    "# solução\n",
    "\n",
    "\n",
    "def analisar_texto(texto):\n",
    "    \n",
    "    palavras = texto.split()  # separa com base em espaços\n",
    "    contagem_palavras = len(palavras)\n",
    "    frequencia_palavras = {}\n",
    "    frequencia_letras = {}\n",
    "    \n",
    "    for palavra in palavras:\n",
    "        # abaixo, o get verificará se existe a palavra no dicionário. Não havendo, atribui o valor 0 e soma 1\n",
    "        frequencia_palavras[palavra] = frequencia_palavras.get(palavra, 0) + 1\n",
    "        for letra in palavra.lower():\n",
    "            # abaixo, o get verificará se existe a letra no dicionário. Não havendo, atribui o valor 0 e soma 1\n",
    "            frequencia_letras[letra] = frequencia_letras.get(letra, 0) + 1\n",
    "            \n",
    "    return contagem_palavras, frequencia_palavras, frequencia_letras\n",
    "\n",
    "\n",
    "texto = \"Olá mundo! Este é um teste. Olá novamente.\"\n",
    "contagem_palavras, frequencia_palavras, frequencia_letras = analisar_texto(texto)\n",
    "print(f\"Contagem de palavras: {contagem_palavras}\")\n",
    "print(f\"Frequência de palavras: {frequencia_palavras}\")\n",
    "print(f\"Frequência de letras: {frequencia_letras}\")\n"
   ]
  }
 ],
 "metadata": {
  "kernelspec": {
   "display_name": "Python 3 (ipykernel)",
   "language": "python",
   "name": "python3"
  },
  "language_info": {
   "codemirror_mode": {
    "name": "ipython",
    "version": 3
   },
   "file_extension": ".py",
   "mimetype": "text/x-python",
   "name": "python",
   "nbconvert_exporter": "python",
   "pygments_lexer": "ipython3",
   "version": "3.10.11"
  }
 },
 "nbformat": 4,
 "nbformat_minor": 5
}
